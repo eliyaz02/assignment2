{
 "cells": [
  {
   "cell_type": "code",
   "execution_count": 4,
   "id": "08229f20",
   "metadata": {},
   "outputs": [
    {
     "name": "stdout",
     "output_type": "stream",
     "text": [
      "dcba4321\n"
     ]
    }
   ],
   "source": [
    "# Sample String : \"1234abcd\"\n",
    "def reverse(s: str):\n",
    "    reversed = \"\"\n",
    "    for  ch in s:\n",
    "        reversed = ch + reversed\n",
    "    return reversed\n",
    "    \n",
    "s = \"1234abcd\"\n",
    "print(reverse(s))"
   ]
  }
 ],
 "metadata": {
  "kernelspec": {
   "display_name": "Python 3 (ipykernel)",
   "language": "python",
   "name": "python3"
  },
  "language_info": {
   "codemirror_mode": {
    "name": "ipython",
    "version": 3
   },
   "file_extension": ".py",
   "mimetype": "text/x-python",
   "name": "python",
   "nbconvert_exporter": "python",
   "pygments_lexer": "ipython3",
   "version": "3.10.0"
  }
 },
 "nbformat": 4,
 "nbformat_minor": 5
}
